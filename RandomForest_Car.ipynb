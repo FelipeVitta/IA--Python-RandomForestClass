{
  "nbformat": 4,
  "nbformat_minor": 0,
  "metadata": {
    "colab": {
      "provenance": [],
      "authorship_tag": "ABX9TyNQ3Lszew4+mxdYKjwsV26G",
      "include_colab_link": true
    },
    "kernelspec": {
      "name": "python3",
      "display_name": "Python 3"
    },
    "language_info": {
      "name": "python"
    }
  },
  "cells": [
    {
      "cell_type": "markdown",
      "metadata": {
        "id": "view-in-github",
        "colab_type": "text"
      },
      "source": [
        "<a href=\"https://colab.research.google.com/github/FelipeVitta/RandomForestClassifier-CarData/blob/main/RandomForest_Car.ipynb\" target=\"_parent\"><img src=\"https://colab.research.google.com/assets/colab-badge.svg\" alt=\"Open In Colab\"/></a>"
      ]
    },
    {
      "cell_type": "code",
      "execution_count": 5,
      "metadata": {
        "colab": {
          "base_uri": "https://localhost:8080/",
          "height": 691
        },
        "id": "9jE1j9RPj15h",
        "outputId": "7345f23b-5562-43da-82db-e31f89b60c9a"
      },
      "outputs": [
        {
          "output_type": "stream",
          "name": "stdout",
          "text": [
            "Looking in indexes: https://pypi.org/simple, https://us-python.pkg.dev/colab-wheels/public/simple/\n",
            "Requirement already satisfied: plotly in /usr/local/lib/python3.8/dist-packages (5.11.0)\n",
            "Requirement already satisfied: tenacity>=6.2.0 in /usr/local/lib/python3.8/dist-packages (from plotly) (8.1.0)\n",
            "Looking in indexes: https://pypi.org/simple, https://us-python.pkg.dev/colab-wheels/public/simple/\n",
            "Requirement already satisfied: kneed in /usr/local/lib/python3.8/dist-packages (0.8.1)\n",
            "Requirement already satisfied: numpy>=1.14.2 in /usr/local/lib/python3.8/dist-packages (from kneed) (1.21.6)\n",
            "Requirement already satisfied: scipy>=1.0.0 in /usr/local/lib/python3.8/dist-packages (from kneed) (1.7.3)\n",
            "              precision    recall  f1-score   support\n",
            "\n",
            "           0       0.94      0.92      0.93       116\n",
            "           1       0.90      0.92      0.91        84\n",
            "\n",
            "    accuracy                           0.92       200\n",
            "   macro avg       0.92      0.92      0.92       200\n",
            "weighted avg       0.92      0.92      0.92       200\n",
            "\n",
            "True negative rate: 0.9224137931034483\n",
            "False positive rate: 0.07758620689655173\n",
            "False negative rate: 0.08333333333333333\n",
            "True positive rate: 0.9166666666666666\n"
          ]
        },
        {
          "output_type": "display_data",
          "data": {
            "text/plain": [
              "<Figure size 576x396 with 1 Axes>"
            ],
            "image/png": "[encoded data removed]"
          },
          "metadata": {}
        }
      ],
      "source": [
        "!pip install plotly --upgrade\n",
        "!pip install kneed # To install only knee-detection algori\n",
        "\n",
        "from sklearn.metrics._plot.confusion_matrix import confusion_matrix\n",
        "from sklearn import preprocessing\n",
        "from sklearn import tree\n",
        "from sklearn.tree import DecisionTreeClassifier\n",
        "from sklearn.preprocessing import LabelEncoder\n",
        "from sklearn.preprocessing import OneHotEncoder\n",
        "from sklearn.compose import ColumnTransformer\n",
        "from sklearn.model_selection import train_test_split\n",
        "import pandas as pd\n",
        "import numpy as np\n",
        "from yellowbrick.classifier import ConfusionMatrix\n",
        "from sklearn.metrics import classification_report\n",
        "from sklearn.tree import export_graphviz\n",
        "import pydotplus\n",
        "from IPython.display import Image\n",
        "from imblearn.over_sampling import SMOTE \n",
        "from sklearn.impute import SimpleImputer\n",
        "from sklearn.preprocessing import OrdinalEncoder\n",
        "from sklearn.impute import KNNImputer\n",
        "from sklearn.metrics import accuracy_score\n",
        "import seaborn as sns\n",
        "import plotly.express as px\n",
        "import plotly.graph_objects as go\n",
        "import matplotlib.pyplot as plt\n",
        "import plotly.express as px\n",
        "import plotly.graph_objects as go\n",
        "import matplotlib.pyplot as plt\n",
        "import numpy as np\n",
        "import seaborn as sns\n",
        "from kneed import DataGenerator, KneeLocator #para mostrar o número de grupos ideal do agrupamento\n",
        "from sklearn.cluster import KMeans #Importando a função Kmeans\n",
        "from sklearn.preprocessing import StandardScaler #Função utilizada para normalização dos dados\n",
        "from sklearn.metrics import silhouette_score\n",
        "from sklearn.preprocessing import MinMaxScaler #Função utilizada para normalização dos dados\n",
        "from sklearn.model_selection import train_test_split\n",
        "from sklearn.preprocessing import MinMaxScaler\n",
        "from sklearn.ensemble import RandomForestClassifier\n",
        "\n",
        "dataset = pd.read_csv(\"/content/sample_data/car_data.csv\")\n",
        "\n",
        "ordinal_encoder = OrdinalEncoder() #binariza atributos ordinais\n",
        "\n",
        "#separando imputs e target \n",
        "inputs = dataset.drop('Purchased',axis='columns')\n",
        "target = dataset['Purchased'].astype('str')\n",
        "\n",
        "#binarizando o atributo\n",
        "inputs[['Gender']] = ordinal_encoder.fit_transform(inputs[['Gender']])\n",
        "\n",
        "#imputando dados ausentes\n",
        "knn_imputer = KNNImputer(n_neighbors=6)\n",
        "inputs = knn_imputer.fit_transform(inputs)\n",
        "\n",
        "#separando conjuntos de treino e teste\n",
        "x_treino,x_teste,y_treino,y_teste = train_test_split(inputs, target, test_size = 0.20, random_state = 3)\n",
        "\n",
        "#normalização\n",
        "scaler = MinMaxScaler()\n",
        "x_treino = scaler.fit_transform(x_treino)\n",
        "x_teste = scaler.transform(x_teste)\n",
        "\n",
        "#balanceamento de dados oversample\n",
        "smt = SMOTE(random_state=1)\n",
        "x_res, y_res = smt.fit_resample(x_treino,y_treino)\n",
        "\n",
        "model = RandomForestClassifier(n_estimators=100, n_jobs=-1, random_state = 60,criterion=\"entropy\");\n",
        "model.fit(x_res,y_res)\n",
        "\n",
        "previsao = model.predict(x_teste)\n",
        "\n",
        "#gerando a matriz de confusão\n",
        "confusion_matrix(y_teste, previsao)\n",
        "\n",
        "cm = ConfusionMatrix(model)\n",
        "cm.fit(x_treino, y_treino)\n",
        "cm.score(x_teste,y_teste)\n",
        "\n",
        "#gerando as metricas\n",
        "\n",
        "print(classification_report(y_teste, previsao))\n",
        "\n",
        "\n",
        "tn, fp, fn, tp = confusion_matrix(y_teste, model.predict(x_teste)).ravel()\n",
        "tnr = tn / (tn + fp) # true negative rate \n",
        "fpr = fp / (tn + fp) # false positive rate \n",
        "fnr = fn / (fn + tp) # false negative rate \n",
        "tpr = tp / (tp + fn) # true positive rate\n",
        "print('True negative rate: ' + str(tnr))\n",
        "print('False positive rate: ' + str(fpr))\n",
        "print('False negative rate: ' + str(fnr))\n",
        "print('True positive rate: ' + str(tpr))\n",
        "\n",
        "\n"
      ]
    },
    {
      "cell_type": "code",
      "source": [
        "scores"
      ],
      "metadata": {
        "colab": {
          "base_uri": "https://localhost:8080/"
        },
        "id": "MHNUfbE3o-ZE",
        "outputId": "44321f60-8b0c-40a1-e2b5-3527b62669ad"
      },
      "execution_count": null,
      "outputs": [
        {
          "output_type": "execute_result",
          "data": {
            "text/plain": [
              "array([1.        , 0.93333333, 1.        , 0.93333333, 0.93333333,\n",
              "       0.93333333, 0.86666667, 1.        , 1.        , 1.        ])"
            ]
          },
          "metadata": {},
          "execution_count": 5
        }
      ]
    },
    {
      "cell_type": "code",
      "source": [
        "print(sum(scores)/float(len(scores)))"
      ],
      "metadata": {
        "colab": {
          "base_uri": "https://localhost:8080/"
        },
        "id": "TVvIyrXApCTE",
        "outputId": "e10d3317-a647-439d-ad5c-e5fe72dad8fc"
      },
      "execution_count": null,
      "outputs": [
        {
          "output_type": "stream",
          "name": "stdout",
          "text": [
            "0.9600000000000002\n"
          ]
        }
      ]
    }
  ]
}